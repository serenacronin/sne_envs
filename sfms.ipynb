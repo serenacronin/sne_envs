{
 "cells": [
  {
   "cell_type": "markdown",
   "metadata": {},
   "source": [
    "# Plot supernovae in the $\\Sigma_{\\rm SFR}{-}\\Sigma_{*}$ plane to compare each SN type with the resolved star-forming main sequence."
   ]
  },
  {
   "cell_type": "code",
   "execution_count": null,
   "metadata": {},
   "outputs": [],
   "source": [
    "import numpy as np\n",
    "import pandas as pd\n",
    "import math\n",
    "import matplotlib.pyplot as plt\n",
    "import matplotlib.cm as cm\n",
    "import os.path\n",
    "from astropy.utils.console import ProgressBar\n",
    "import seaborn as sns\n",
    "import astropy.io.fits as pyfits\n",
    "from astropy.wcs import WCS\n",
    "from matplotlib import colors\n",
    "from scipy import stats\n",
    "import matplotlib.gridspec as gridspec\n",
    "import warnings\n",
    "warnings.filterwarnings('ignore')"
   ]
  },
  {
   "cell_type": "markdown",
   "metadata": {},
   "source": [
    "Read in final SN sample and the delivery index."
   ]
  },
  {
   "cell_type": "code",
   "execution_count": null,
   "metadata": {},
   "outputs": [],
   "source": [
    "sn_samp   = pd.read_csv('../sne_project/samples/FINAL_SAMPLE.csv')\n",
    "del_index = pd.read_csv('../sne_project/delivery_index_full.csv')"
   ]
  },
  {
   "cell_type": "markdown",
   "metadata": {},
   "source": [
    "Define functions to convert W3 and NUV to SFR."
   ]
  },
  {
   "cell_type": "code",
   "execution_count": null,
   "metadata": {},
   "outputs": [],
   "source": [
    "# W3\n",
    "def w3_SFR_tracer(pixel_flux_w3):\n",
    "    \"\"\" Input: flux measured at pixel (W3)\n",
    "        Output: surfance density of SFR \n",
    "        in M_sol yr-1 kpc-2\n",
    "    \"\"\"\n",
    "    SFR_w3 = (3.77e-03)*((10**(-42.86)) / (10**(-42.9)))*(pixel_flux_w3)\n",
    "    return(SFR_w3)\n",
    "\n",
    "# NUV\n",
    "def nuv_SFR_tracer(pixel_flux_nuv):\n",
    "    \"\"\" Input: flux measured at pixel (NUV)\n",
    "        Output: surfance density of SFR \n",
    "        in M_sol yr-1 kpc-2\n",
    "    \"\"\"\n",
    "    SFR_nuv = (1.05e-01)*((10**(-43.24)) / (10**(-43.17)))*(pixel_flux_nuv)\n",
    "    return(SFR_nuv)"
   ]
  },
  {
   "cell_type": "markdown",
   "metadata": {},
   "source": [
    "Define a function that will calculate an ellipse with major axis r25."
   ]
  },
  {
   "cell_type": "code",
   "execution_count": null,
   "metadata": {},
   "outputs": [],
   "source": [
    "def ellipse(delta_ra, delta_dec, pa, incl, r25_rad):\n",
    "    part1 = ((-delta_ra*math.cos(np.radians(pa+90)) + delta_dec*math.sin(np.radians(pa+90)))**2)/(r25_rad**2)\n",
    "    part2 = ((-delta_ra*math.sin(np.radians(pa+90)) - delta_dec*math.cos(np.radians(pa+90)))**2)/(r25_rad*math.cos(np.radians(incl)))**2\n",
    "    return(part1, part2)"
   ]
  },
  {
   "cell_type": "markdown",
   "metadata": {},
   "source": [
    "Define a function that will see if the SNe fall within r25 of their hosts."
   ]
  },
  {
   "cell_type": "code",
   "execution_count": null,
   "metadata": {},
   "outputs": [],
   "source": [
    "def in_gal(samp):\n",
    "    in_galaxy = []\n",
    "\n",
    "    #bar = ProgressBar(len(samp), ipython_widget=True)\n",
    "    for index, row in samp.iterrows():\n",
    "\n",
    "            #bar.update()\n",
    "\n",
    "            # grab ra, dec, R25, inclination, and position angle; get ra, dec, and R25 in radians\n",
    "            ra_gal  = np.radians(row['RA_GAL'])\n",
    "            dec_gal = np.radians(row['DEC_GAL'])\n",
    "            r25     = np.radians(row['R25'])\n",
    "            incl    = row['INCL']\n",
    "            pa      = row['PA']\n",
    "\n",
    "            # grab RA and DEC of SN; get them in radians\n",
    "            ra_sn  = np.radians(row['RA'])\n",
    "            dec_sn = np.radians(row['DEC'])\n",
    "\n",
    "            # take difference in RA and DEC of galaxy and RA and DEC of SNe\n",
    "            delta_ra = ra_gal - ra_sn\n",
    "            delta_dec = dec_gal - dec_sn\n",
    "\n",
    "            part1, part2 = ellipse(delta_ra, delta_dec, pa, incl, r25)\n",
    "            e = part1 + part2\n",
    "\n",
    "            # compare distance with eqtn for inclined, oblique ellipse\n",
    "            if e <= 1:\n",
    "                in_galaxy += [1]\n",
    "            else:\n",
    "                in_galaxy += [0]\n",
    "    return(in_galaxy)"
   ]
  },
  {
   "cell_type": "code",
   "execution_count": null,
   "metadata": {},
   "outputs": [],
   "source": [
    "# run the above function and make an extra column in the sample DataFrame\n",
    "in_galaxy = in_gal(sn_samp)\n",
    "sn_samp['IN_R25'] = in_galaxy"
   ]
  },
  {
   "cell_type": "markdown",
   "metadata": {},
   "source": [
    "Drop the SNe that are not within r25 of their host galaxies."
   ]
  },
  {
   "cell_type": "code",
   "execution_count": null,
   "metadata": {},
   "outputs": [],
   "source": [
    "sn_samp_r25 = sn_samp[sn_samp['IN_R25'] == 1.]\n",
    "len(sn_samp_r25['PGC'].drop_duplicates(keep='first')) # how big is the galaxy sample?"
   ]
  },
  {
   "cell_type": "markdown",
   "metadata": {},
   "source": [
    "Split the SN sample by type."
   ]
  },
  {
   "cell_type": "code",
   "execution_count": null,
   "metadata": {},
   "outputs": [],
   "source": [
    "# SNe Ia sample\n",
    "ia = sn_samp_r25[sn_samp_r25['TYPE'] == 'Ia']\n",
    "\n",
    "# SNe II sample\n",
    "bitmask = (((sn_samp_r25.TYPE == 'II') |\n",
    "            (sn_samp_r25.TYPE == 'II P') |\n",
    "            (sn_samp_r25.TYPE == 'IIL')))\n",
    "ii = sn_samp_r25[bitmask]\n",
    "\n",
    "# SNe Ib/c sample\n",
    "bitmask = (((sn_samp_r25.TYPE == 'Ib') |\n",
    "            (sn_samp_r25.TYPE == 'Ic') |\n",
    "            (sn_samp_r25.TYPE == 'Ib/c') |\n",
    "            (sn_samp_r25.TYPE == 'Ibc') |\n",
    "            (sn_samp_r25.TYPE == 'IIb')))\n",
    "ibc = sn_samp_r25[bitmask]"
   ]
  },
  {
   "cell_type": "markdown",
   "metadata": {},
   "source": [
    "Define a function that will add SFR(W3+NUV) columns to the SN sample, will convert W1 to sigma star (eq. 10 in z0mgs paper), will multiply the axes by cos(i), and will make a W1 3*RMS cut."
   ]
  },
  {
   "cell_type": "code",
   "execution_count": null,
   "metadata": {},
   "outputs": [],
   "source": [
    "def sample_prep(sample):\n",
    "    \"\"\" Convert each SN's W1 to sigma_star and calculate SFR (W3+NUV).\n",
    "        Return lists of sigma_star and sigma_sfr values for each SN.\n",
    "    \"\"\"\n",
    "    sigma_star  = []\n",
    "    sigma_sfr = []\n",
    "    for index, row in sample.iterrows():\n",
    "        \n",
    "        # 3*RMS cut\n",
    "        if (row['W1'] < 3*row['RMS_W1']):\n",
    "            row['W1'] == 3*row['RMS_W1']\n",
    "            continue\n",
    "\n",
    "        # calculate SFR (W3+NUV)\n",
    "        w3  = w3_SFR_tracer(row['W3'])\n",
    "        nuv = nuv_SFR_tracer(row['NUV'])\n",
    "        sfr = w3+nuv\n",
    "\n",
    "        # multiply by cos(i) for both and convert W1 to sigma star\n",
    "        info = del_index[del_index['pgc_name'] == row['PGC']] # delivery index information on the host galaxy\n",
    "        sigma_star.append(330*(np.float(info['mtol'])/0.5)*row['W1']*np.cos(np.radians(row['INCL'])))\n",
    "        sigma_sfr.append(sfr*np.cos(np.radians(row['INCL'])))\n",
    "\n",
    "    return(sigma_star, sigma_sfr)"
   ]
  },
  {
   "cell_type": "code",
   "execution_count": null,
   "metadata": {},
   "outputs": [],
   "source": [
    "# run the above function for SNe Ia, II, and Ib/c.\n",
    "ia_star, ia_sfr   = sample_prep(ia)\n",
    "ii_star, ii_sfr   = sample_prep(ii)\n",
    "ibc_star, ibc_sfr = sample_prep(ibc)"
   ]
  },
  {
   "cell_type": "markdown",
   "metadata": {},
   "source": [
    "Tweak sample_prep() so that it splits up a SN distribution by galaxy type."
   ]
  },
  {
   "cell_type": "code",
   "execution_count": null,
   "metadata": {},
   "outputs": [],
   "source": [
    "def split_sample_prep(sample):\n",
    "    \"\"\" Convert each SN's W1 to sigma_star and calculate SFR (W3+NUV).\n",
    "        Return lists of sigma_star and sigma_sfr values for each SN.\n",
    "        This will split up the sample by host galaxy type.\n",
    "    \"\"\"\n",
    "    sigma_star_ellip  = []\n",
    "    sigma_sfr_ellip   = []\n",
    "    sigma_star_spiral = []\n",
    "    sigma_sfr_spiral  = []\n",
    "    sigma_star_irr    = []\n",
    "    sigma_sfr_irr     = []\n",
    "    for index, row in sample.iterrows():\n",
    "            \n",
    "        # 3*RMS cut\n",
    "        if (row['W1'] < 3*row['RMS_W1']):\n",
    "            row['W1'] == 3*row['RMS_W1']\n",
    "            continue\n",
    "\n",
    "        # calculate SFR (W3+NUV)\n",
    "        w3  = w3_SFR_tracer(row['W3'])\n",
    "        nuv = nuv_SFR_tracer(row['NUV'])\n",
    "        sfr = w3+nuv\n",
    "\n",
    "        # multiply by cos(i) for both and convert W1 to sigma star\n",
    "        info = del_index[del_index['pgc_name'] == row['PGC']] # delivery index information on the host galaxy\n",
    "        \n",
    "        if row['T'] == np.nan:\n",
    "            continue\n",
    "            \n",
    "        if (row['T'] < 2):\n",
    "            sigma_star_ellip.append(330*(np.float(info['mtol'])/0.5)*row['W1']*np.cos(np.radians(row['INCL'])))\n",
    "            sigma_sfr_ellip.append(sfr*np.cos(np.radians(row['INCL'])))\n",
    "            \n",
    "        if (row['T'] >= 2) & (row['T'] <= 6):\n",
    "            sigma_star_spiral.append(330*(np.float(info['mtol'])/0.5)*row['W1']*np.cos(np.radians(row['INCL'])))\n",
    "            sigma_sfr_spiral.append(sfr*np.cos(np.radians(row['INCL'])))\n",
    "            \n",
    "        if (row['T'] > 6):\n",
    "            sigma_star_irr.append(330*(np.float(info['mtol'])/0.5)*row['W1']*np.cos(np.radians(row['INCL'])))\n",
    "            sigma_sfr_irr.append(sfr*np.cos(np.radians(row['INCL'])))\n",
    "\n",
    "    return(sigma_star_ellip, sigma_sfr_ellip, sigma_star_spiral, sigma_sfr_spiral, sigma_star_irr, sigma_sfr_irr)"
   ]
  },
  {
   "cell_type": "code",
   "execution_count": null,
   "metadata": {},
   "outputs": [],
   "source": [
    "ia_star_ellip, ia_sfr_ellip, ia_star_spiral, ia_sfr_spiral, ia_star_irr, ia_sfr_irr = split_sample_prep(ia)\n",
    "ii_star_ellip, ii_sfr_ellip, ii_star_spiral, ii_sfr_spiral, ii_star_irr, ii_sfr_irr = split_sample_prep(ii)\n",
    "ibc_star_ellip, ibc_sfr_ellip, ibc_star_spiral, ibc_sfr_spiral, ibc_star_irr, ibc_sfr_irr = split_sample_prep(ibc)"
   ]
  },
  {
   "cell_type": "markdown",
   "metadata": {},
   "source": [
    "Add SFR (W3+NUV) to the control tables. **This is writing to file, so no need to run again.**"
   ]
  },
  {
   "cell_type": "code",
   "execution_count": null,
   "metadata": {},
   "outputs": [],
   "source": [
    "already_done = []\n",
    "all_w1 = []\n",
    "all_sfr = []\n",
    "\n",
    "bar = ProgressBar(len(sn_samp_r25), ipython_widget=True)\n",
    "for index, row in sn_samp_r25.iterrows():\n",
    "    pgc  = row['PGC']\n",
    "    r25  = row['R25']\n",
    "    incl = row['INCL']\n",
    "    \n",
    "    # skip if SN type is less than 3*RMS\n",
    "    if (row['W1'] < 3*row['RMS_W1']):\n",
    "        print(row['NAME'],'',row['PGC'])\n",
    "        bar.update()\n",
    "        continue\n",
    "    \n",
    "    # if host galaxy was already completed, skip\n",
    "    if pgc in already_done:\n",
    "        bar.update()\n",
    "        continue\n",
    "    else:\n",
    "        already_done.append(pgc)\n",
    "    \n",
    "    # read in the host galaxy control table\n",
    "    control_table = pd.read_csv('galaxy_control_tables/2kpc/%s_2kpc.csv' % (pgc))\n",
    "    \n",
    "    if len(control_table) == 0.:\n",
    "        print(pgc)\n",
    "        bar.update()\n",
    "        continue\n",
    "        \n",
    "    # make a SFR column\n",
    "    sfr = []\n",
    "    for index, row in control_table.iterrows():    \n",
    "        # convert to SFR (W3+NUV)\n",
    "        w3  = w3_SFR_tracer(row['W3'])\n",
    "        nuv = nuv_SFR_tracer(row['NUV'])\n",
    "        sfr.append(w3+nuv)\n",
    "        \n",
    "    # add the column to the control table\n",
    "    control_table['SFR(W3+NUV)'] = sfr\n",
    "    control_table.to_csv('galaxy_control_tables/2kpc/%s_2kpc.csv' % (pgc), index=False)\n",
    "    bar.update()"
   ]
  },
  {
   "cell_type": "markdown",
   "metadata": {},
   "source": [
    "Now we want to collect all the pixels within r25 of the host galaxies and save the SFR and sigma_star values to a list. **This outputs to a file, so no need to run again.**"
   ]
  },
  {
   "cell_type": "code",
   "execution_count": null,
   "metadata": {},
   "outputs": [],
   "source": [
    "already_done = []\n",
    "all_star = []\n",
    "all_sfr = []\n",
    "\n",
    "bar = ProgressBar(len(sn_samp_r25), ipython_widget=True)\n",
    "for index, row in sn_samp_r25.iterrows():\n",
    "    pgc  = row['PGC']\n",
    "    r25  = row['R25']\n",
    "    incl = row['INCL']\n",
    "    \n",
    "    # most likely culprit for the weird long line\n",
    "    if pgc == 'PGC46957':\n",
    "        bar.update()\n",
    "        continue\n",
    "    \n",
    "    # skip if SN type is less than 3*RMS\n",
    "    if (row['W1'] < 3*row['RMS_W1']):\n",
    "        print(row['NAME'],'',row['PGC'])\n",
    "        bar.update()\n",
    "        continue\n",
    "    \n",
    "    # if host galaxy was already completed, skip\n",
    "    if pgc in already_done:\n",
    "        bar.update()\n",
    "        continue\n",
    "    else:\n",
    "        already_done.append(pgc)\n",
    "    \n",
    "    # read in the host galaxy control table\n",
    "    control_table = pd.read_csv('galaxy_control_tables/2kpc/%s_2kpc.csv' % (pgc))\n",
    "    \n",
    "    if len(control_table) == 0.:\n",
    "        print(pgc)\n",
    "        bar.update()\n",
    "        continue\n",
    "    \n",
    "    # get rgrid\n",
    "    hdulist = pyfits.open('/data/kant/0/leroy.42/allsky/convolved/2kpc/%s_w1_2kpc.fits' % (pgc))\n",
    "    w = WCS(hdulist[0].header)\n",
    "    mapp = hdulist[0].data.copy()\n",
    "    dimx, dimy = np.shape(mapp)\n",
    "    mapp = mapp.flatten()\n",
    "    \n",
    "    # get pixels inside just R25\n",
    "    hdulist1 = pyfits.open('rgrid/2kpc/%s_2kpc_rgrid.fits' % (pgc))\n",
    "    \n",
    "    rad_map    = hdulist1[0].data.copy() # copy data out into variable\n",
    "    w          = WCS(hdulist1[0].header)\n",
    "    rad_map    = rad_map.flatten()\n",
    "    loc_inside = np.where(rad_map <= r25)[0]\n",
    "    radii      = rad_map[loc_inside].byteswap().newbyteorder() # radii array; big endian to little endian (fixes error)\n",
    "    hdulist1.close()\n",
    "    \n",
    "    # RA, DEC MAP; get the RA and Dec coords inside R25\n",
    "    xx, yy = np.meshgrid(range(dimx), range(dimy))\n",
    "    xx = xx.flatten()\n",
    "    yy = yy.flatten()\n",
    "\n",
    "    xx_inside = xx[loc_inside]\n",
    "    yy_inside = yy[loc_inside]\n",
    "    ra, dec   = w.wcs_pix2world(xx_inside, yy_inside, 0)\n",
    "    \n",
    "    # get the indices where the radii are within r25\n",
    "    indices = []\n",
    "    for i in range(len(ra)):\n",
    "        indices.append(np.where((control_table['RA'] == ra[i]) & (control_table['DEC'] == dec[i]))[0])\n",
    "        \n",
    "    indices_list = [i for arr in indices for i in arr]\n",
    "    w1_r25  = np.array(control_table['W1'][indices_list])\n",
    "    sfr_r25 = np.array(control_table['SFR(W3+NUV)'][indices_list])\n",
    "    \n",
    "    # get the indices where W1 >= 3*RMS\n",
    "    rms = np.where(w1_r25 >= 3*control_table['RMS_W1'][0])[0]\n",
    "    rms_indices_list = [i for i in rms]\n",
    "        \n",
    "    # collect the pixels within r25 AND with W1 values that are >= 3*RMS\n",
    "    # multiply by cos(i) for both and convert W1 to sigma star\n",
    "    info = del_index[del_index['pgc_name'] == pgc] # get the delivery index info on this galaxy\n",
    "    all_star.append(330*(np.float(info['mtol'])/0.5)*w1_r25[rms_indices_list]*np.cos(np.radians(row['INCL'])))\n",
    "    all_sfr.append(sfr_r25[rms_indices_list]*np.cos(np.radians(row['INCL'])))\n",
    "    \n",
    "    hdulist.close()\n",
    "    bar.update()"
   ]
  },
  {
   "cell_type": "markdown",
   "metadata": {},
   "source": [
    "Write the above output to file. **No need to re-run**."
   ]
  },
  {
   "cell_type": "code",
   "execution_count": null,
   "metadata": {},
   "outputs": [],
   "source": [
    "# get the sigma star and sigma SFR values into lists\n",
    "all_star_list  = [i for series in all_star for i in series]\n",
    "all_sfr_list   = [i for series in all_sfr for i in series]\n",
    "\n",
    "# get the number of pixels inside each galaxy\n",
    "numpix_star = [len(series) for series in all_star for i in series]\n",
    "numpix_sfr  = [len(series) for series in all_sfr  for i in series]\n",
    "\n",
    "# make sure we only have positive points\n",
    "is_positive    = np.where((np.array(all_star_list) > 0) & (np.array(all_sfr_list) > 0))[0]\n",
    "all_star_list  = np.array(all_star_list)[is_positive]\n",
    "all_sfr_list   = np.array(all_sfr_list)[is_positive]\n",
    "\n",
    "numpix_star = np.array(numpix_star)[is_positive]\n",
    "numpix_sfr  = np.array(numpix_sfr)[is_positive]\n",
    "\n",
    "# output this to a file!\n",
    "star_sfr = pd.DataFrame()\n",
    "star_sfr['sigma_star']  = all_star_list\n",
    "star_sfr['sigma_sfr']   = all_sfr_list\n",
    "star_sfr['numpix_star'] = numpix_star\n",
    "star_sfr['numpix_sfr']  = numpix_sfr\n",
    "star_sfr.to_csv('results/star_sfr.csv',index=False)"
   ]
  },
  {
   "cell_type": "markdown",
   "metadata": {},
   "source": [
    "### Plot!\n",
    "\n",
    "Host galaxy pixels were written to file. The SN pixels were saved to memory by the sample_prep() function, but that takes a second to run.\n",
    "\n",
    "#### First, plot SNe together."
   ]
  },
  {
   "cell_type": "code",
   "execution_count": null,
   "metadata": {},
   "outputs": [],
   "source": [
    "# read in the galaxy pixels\n",
    "star_sfr = pd.read_csv('../sne_project/results/star_sfr.csv')\n",
    "\n",
    "# font stuff for the axes\n",
    "font_axes = {'family': 'sans-serif',\n",
    "            'color':  'black',\n",
    "            'weight': 'normal',\n",
    "            'size': 20,\n",
    "            }\n",
    "\n",
    "fig = plt.figure(figsize=(10,8))\n",
    "\n",
    "# plot the host galaxy pixels\n",
    "plt.hist2d(np.log10(star_sfr['sigma_star']),np.log10(star_sfr['sigma_sfr']),bins=100,cmap='gray_r',\n",
    "           weights=1./star_sfr['numpix_star'], norm=colors.LogNorm(),zorder=2)\n",
    "\n",
    "# get the color bar for the galaxy pixels\n",
    "cb = plt.colorbar()\n",
    "cb.set_label('data density',fontdict=font_axes,rotation=270,labelpad=25)\n",
    "\n",
    "# plot the SN types (from the sample_prep() function)\n",
    "plt.scatter(np.log10(ia_star),  np.log10(ia_sfr),s=130,color='deepskyblue', alpha=0.7,edgecolors='lightgray',label='SNe Ia',zorder=2)\n",
    "plt.scatter(np.log10(ii_star),  np.log10(ii_sfr),s=130,color='red',alpha=0.7,edgecolors='lightgray',label='SNe II',zorder=2)\n",
    "plt.scatter(np.log10(ibc_star), np.log10(ibc_sfr),s=130,color='orange',alpha=0.7,edgecolors='lightgray',label='SNe Ib/c',zorder=2)\n",
    "\n",
    "# axes limits\n",
    "plt.ylim(-4.1,0)\n",
    "plt.xlim(0,4.0)\n",
    "\n",
    "# legend, gridlines, axes labels, inward ticks, save the figure\n",
    "cb.ax.tick_params(labelsize=16)\n",
    "plt.legend(fontsize=20,loc='upper left')\n",
    "plt.grid(linestyle='--',alpha=0.5,zorder=0)\n",
    "plt.xlabel('$\\log_{10}\\Sigma_{\\star}\\ [\\mathrm{M}_{\\odot}\\ \\mathrm{pc}^{-2}]$', fontdict=font_axes)\n",
    "plt.ylabel('$\\log_{10}\\Sigma_{\\mathrm{SFR}}\\ [\\mathrm{M}_{\\odot}\\ \\mathrm{yr}^{-1}\\ \\mathrm{kpc}^{-2}]$', fontdict=font_axes)\n",
    "plt.tick_params(direction='in',axis='both', which='major', length=5,labelsize=16)\n",
    "plt.tight_layout()\n",
    "plt.savefig('../sne_project/results/sfr_vs_star_full.pdf',dpi=200)\n",
    "plt.savefig('../sne_project/results/sfr_vs_star_full.png',dpi=200)"
   ]
  },
  {
   "cell_type": "markdown",
   "metadata": {},
   "source": [
    "#### Now plot the types individually."
   ]
  },
  {
   "cell_type": "code",
   "execution_count": null,
   "metadata": {},
   "outputs": [],
   "source": [
    "fig,axes = plt.subplots(1,3,figsize=(24,6))\n",
    "\n",
    "# plot the gray pixels on all subplots\n",
    "ax0 = axes[0].hist2d(np.log10(star_sfr['sigma_star']),np.log10(star_sfr['sigma_sfr']),bins=100,cmap='gray_r',\n",
    "           weights=1./star_sfr['numpix_star'], norm=colors.LogNorm(),zorder=2)\n",
    "ax1 = axes[1].hist2d(np.log10(star_sfr['sigma_star']),np.log10(star_sfr['sigma_sfr']),bins=100,cmap='gray_r',\n",
    "           weights=1./star_sfr['numpix_star'], norm=colors.LogNorm(),zorder=2)\n",
    "ax2 = axes[2].hist2d(np.log10(star_sfr['sigma_star']),np.log10(star_sfr['sigma_sfr']),bins=100,cmap='gray_r',\n",
    "           weights=1./star_sfr['numpix_star'], norm=colors.LogNorm(),zorder=2)\n",
    "\n",
    "# plot the SN types\n",
    "axes[0].scatter(np.log10(ia_star),  np.log10(ia_sfr),s=130,color='deepskyblue', alpha=0.7,edgecolors='lightgray',label='SNe Ia',zorder=2)\n",
    "axes[1].scatter(np.log10(ii_star),  np.log10(ii_sfr),s=130,color='red', alpha=0.7,edgecolors='lightgray',label='SNe II',zorder=2)\n",
    "axes[2].scatter(np.log10(ibc_star), np.log10(ibc_sfr),s=130,color='orange', alpha=0.7,edgecolors='lightgray',label='SNe Ib/c',zorder=2)\n",
    "\n",
    "# legend, gridlines, axes labels, inward ticks on all subplots\n",
    "for i in range(3):\n",
    "    axes[i].legend(fontsize=20,loc='upper left')\n",
    "    axes[i].grid(linestyle='--',alpha=0.5,zorder=0)\n",
    "    axes[i].set_xlabel('$\\log_{10}\\Sigma_{\\star}\\ [\\mathrm{M}_{\\odot}\\ \\mathrm{pc}^{-2}]$ ', fontdict=font_axes, fontsize=20)\n",
    "    axes[i].tick_params(direction='in',axis='both', which='major', labelsize=16)\n",
    "    axes[i].set_xlim([0,4.0])\n",
    "    axes[i].set_ylim([-4.1,0])\n",
    "axes[0].set_ylabel('$\\log_{10}\\Sigma_{\\mathrm{SFR}}\\ [\\mathrm{M}_{\\odot}\\ \\mathrm{yr}^{-1}\\ \\mathrm{kpc}^{-2}]$', fontdict=font_axes, fontsize=20)\n",
    "    \n",
    "# set the colorbar\n",
    "cb0 = fig.colorbar(ax0[3],ax=axes[0])\n",
    "cb1 = fig.colorbar(ax1[3],ax=axes[1])\n",
    "cb2 = fig.colorbar(ax2[3],ax=axes[2])\n",
    "cb0.ax.tick_params(labelsize=16)\n",
    "cb1.ax.tick_params(labelsize=16)\n",
    "cb2.ax.tick_params(labelsize=16)\n",
    "cb2.set_label('data density',fontdict=font_axes,fontsize=20,rotation=270,labelpad=25)\n",
    "\n",
    "# save the figure\n",
    "plt.tight_layout()\n",
    "plt.savefig('../sne_project/results/sfr_vs_star.pdf',dpi=200)\n",
    "plt.savefig('../sne_project/results/sfr_vs_star.png',dpi=200)"
   ]
  },
  {
   "cell_type": "markdown",
   "metadata": {},
   "source": [
    "### Create a KDE plot of $\\Sigma_{\\rm SFR}$ and $\\Sigma_{\\rm SFR} / \\Sigma_{*}$ values for SNe Ia, II, and Ib/c. Then perform a T-test to compare the median of the $\\Sigma_{\\rm SFR}$ and $\\Sigma_{\\rm SFR} / \\Sigma_{*}$ values between all SN types.\n",
    "\n",
    "Calculate the median (50th percentile), 16th, and 84th percentile of the distributions."
   ]
  },
  {
   "cell_type": "markdown",
   "metadata": {},
   "source": [
    "#### $\\Sigma_{\\rm SFR}$"
   ]
  },
  {
   "cell_type": "code",
   "execution_count": null,
   "metadata": {},
   "outputs": [],
   "source": [
    "# ia\n",
    "ia_sfr_dict = {\n",
    "    'SFR': ia_sfr,\n",
    "}\n",
    "\n",
    "ia_sfr_df = pd.DataFrame(ia_sfr_dict)\n",
    "\n",
    "ia_star_dict = {\n",
    "    'STAR': ia_star,\n",
    "}\n",
    "\n",
    "ia_star_df = pd.DataFrame(ia_star_dict)\n",
    "ia_df = ia_sfr_df.merge(ia_star_df, left_index=True, right_index=True)\n",
    "\n",
    "# --------------------------------------------------------------------- \n",
    "\n",
    "# ii\n",
    "ii_sfr_dict = {\n",
    "    'SFR': ii_sfr,\n",
    "}\n",
    "\n",
    "ii_sfr_df = pd.DataFrame(ii_sfr_dict)\n",
    "\n",
    "ii_star_dict = {\n",
    "    'STAR': ii_star,\n",
    "}\n",
    "\n",
    "ii_star_df = pd.DataFrame(ii_star_dict)\n",
    "\n",
    "ii_df = ii_sfr_df.merge(ii_star_df, left_index=True, right_index=True)\n",
    "\n",
    "# --------------------------------------------------------------------- \n",
    "\n",
    "# ibc\n",
    "ibc_sfr_dict = {\n",
    "    'SFR': ibc_sfr,\n",
    "}\n",
    "\n",
    "ibc_sfr_df = pd.DataFrame(ibc_sfr_dict)\n",
    "\n",
    "ibc_star_dict = {\n",
    "    'STAR': ibc_star,\n",
    "}\n",
    "\n",
    "ibc_star_df = pd.DataFrame(ibc_star_dict)\n",
    "ibc_df = ibc_sfr_df.merge(ibc_star_df, left_index=True, right_index=True)"
   ]
  },
  {
   "cell_type": "code",
   "execution_count": null,
   "metadata": {},
   "outputs": [],
   "source": [
    "# calculate the median\n",
    "ia_sfr_log = np.log10(ia_df['SFR'])\n",
    "ia_sfr_median = np.median(np.array(ia_sfr_log)[~np.isnan(ia_sfr_log)])\n",
    "print(ia_sfr_median)\n",
    "\n",
    "ii_sfr_log = np.log10(ii_df['SFR'])\n",
    "ii_sfr_median = np.median(np.array(ii_sfr_log)[~np.isnan(ii_sfr_log)])\n",
    "print(ii_sfr_median)\n",
    "ibc_sfr_log = np.log10(ibc_df['SFR'])\n",
    "ibc_sfr_median = np.median(np.array(ibc_sfr_log)[~np.isnan(ibc_sfr_log)])\n",
    "print(ibc_sfr_median)"
   ]
  },
  {
   "cell_type": "code",
   "execution_count": null,
   "metadata": {},
   "outputs": [],
   "source": [
    "# calculate the 16th, 50th, and 84th percentiles\n",
    "p_ibc = np.sort(ibc_sfr_log[~np.isnan(ibc_sfr_log)])\n",
    "p16 = np.percentile(p_ibc, 16)\n",
    "p50 = np.percentile(p_ibc, 50)\n",
    "p84 = np.percentile(p_ibc, 84)\n",
    "print(p16,p50,p84)"
   ]
  },
  {
   "cell_type": "code",
   "execution_count": null,
   "metadata": {},
   "outputs": [],
   "source": [
    "# perform the T-test\n",
    "print(stats.ttest_ind(ia_sfr_log, ii_sfr_log, equal_var=False, nan_policy='omit'))\n",
    "print(stats.ttest_ind(ia_sfr_log, ibc_sfr_log, equal_var=False, nan_policy='omit'))\n",
    "print(stats.ttest_ind(ii_sfr_log, ibc_sfr_log, equal_var=False, nan_policy='omit'))"
   ]
  },
  {
   "cell_type": "markdown",
   "metadata": {},
   "source": [
    "Plot."
   ]
  },
  {
   "cell_type": "code",
   "execution_count": null,
   "metadata": {
    "scrolled": false
   },
   "outputs": [],
   "source": [
    "font_axes = {'family': 'sans-serif',\n",
    "            'color':  'black',\n",
    "            'weight': 'normal',\n",
    "            'size': 25,\n",
    "            }\n",
    "sns.set_style('whitegrid')\n",
    "\n",
    "fig = plt.figure(figsize=(10,7))\n",
    "sfr_data = [ia_sfr_log, ii_sfr_log, ibc_sfr_log]\n",
    "colors = ['tab:blue','tab:red','tab:orange']\n",
    "labels = ['SNe Ia','SNe II','SNe Ib/c']\n",
    "zorders = [4,3,2]\n",
    "alphas=[0.3,0.3,0.3]\n",
    "bars = [0.89,.85,.81]\n",
    "\n",
    "for i in range(len(sfr_data)):\n",
    "    ax = sns.kdeplot(sfr_data[i], shade=True,color=colors[i], linewidth=5,alpha=alphas[i], label=labels[i],zorder=zorders[i])   \n",
    "\n",
    "    # plot the percentiles\n",
    "    perc = np.sort(sfr_data[i][~np.isnan(sfr_data[i])])\n",
    "    ax.scatter([np.percentile(perc, 50)],[bars[i]], edgecolors='black',facecolors='white', marker='o', lw=3, s=100, zorder=11)\n",
    "    ax.plot([np.percentile(perc, 16), np.percentile(perc, 84)], [bars[i], bars[i]], color=colors[i], lw=5, zorder=10)\n",
    "    \n",
    "    if i == 2:\n",
    "        ax.set_xlabel('$\\log_{10}\\Sigma_{\\mathrm{SFR}}\\ [\\mathrm{M}_{\\odot}\\ \\mathrm{yr}^{-1}\\ \\mathrm{kpc}^{-2}]$',fontdict=font_axes)\n",
    "        ax.set_ylabel('Data density',fontdict=font_axes)\n",
    "        ax.tick_params(direction='in',axis='both', which='major', labelsize=20)\n",
    "\n",
    "ax.legend(fontsize=25, loc='upper right')\n",
    "\n",
    "plt.tight_layout()\n",
    "plt.savefig('../sne_project/results/sfr_kde.pdf',dpi=200)\n"
   ]
  },
  {
   "cell_type": "markdown",
   "metadata": {},
   "source": [
    "#### $\\Sigma_{\\rm SFR} / \\Sigma_{*}$"
   ]
  },
  {
   "cell_type": "code",
   "execution_count": null,
   "metadata": {},
   "outputs": [],
   "source": [
    "# calculate the median\n",
    "ia_ratio  = np.log10(ia_df['SFR']/(ia_df['STAR']*(10**(6))))\n",
    "print(np.median(np.array(ia_ratio)[~np.isnan(ia_ratio)]))\n",
    "\n",
    "ii_ratio  = np.log10(ii_df['SFR']/(ii_df['STAR']*(10**(6))))\n",
    "print(np.median(np.array(ii_ratio)[~np.isnan(ii_ratio)]))\n",
    "\n",
    "ibc_ratio = np.log10(ibc_df['SFR']/(ibc_df['STAR']*(10**(6))))\n",
    "print(np.median(np.array(ibc_ratio)[~np.isnan(ibc_ratio)]))"
   ]
  },
  {
   "cell_type": "code",
   "execution_count": null,
   "metadata": {},
   "outputs": [],
   "source": [
    "# calculate the 16th, 50th, and 84th percentiles\n",
    "p_ibc = np.sort(ibc_ratio[~np.isnan(ibc_ratio)])\n",
    "p16 = np.percentile(p_ibc, 16)\n",
    "p50 = np.percentile(p_ibc, 50)\n",
    "p84 = np.percentile(p_ibc, 84)\n",
    "print(p16,p50,p84)"
   ]
  },
  {
   "cell_type": "code",
   "execution_count": null,
   "metadata": {},
   "outputs": [],
   "source": [
    "# perform the T-test\n",
    "print(stats.ttest_ind(ia_ratio, ii_ratio,  equal_var=False, nan_policy='omit'))\n",
    "print(stats.ttest_ind(ia_ratio, ibc_ratio, equal_var=False, nan_policy='omit'))\n",
    "print(stats.ttest_ind(ii_ratio, ibc_ratio, equal_var=False, nan_policy='omit'))"
   ]
  },
  {
   "cell_type": "code",
   "execution_count": null,
   "metadata": {},
   "outputs": [],
   "source": [
    "ia_ratio_ellip  = np.log10(ia_df_ellip['SFR']/(ia_df_ellip['STAR']*(10**(6))))\n",
    "ia_ratio_spiral  = np.log10(ia_df_spiral['SFR']/(ia_df_spiral['STAR']*(10**(6))))\n",
    "ia_ratio_irr  = np.log10(ia_df_irr['SFR']/(ia_df_irr['STAR']*(10**(6))))"
   ]
  },
  {
   "cell_type": "markdown",
   "metadata": {},
   "source": [
    "Plot."
   ]
  },
  {
   "cell_type": "code",
   "execution_count": null,
   "metadata": {
    "scrolled": false
   },
   "outputs": [],
   "source": [
    "font_axes = {'family': 'sans-serif',\n",
    "            'color':  'black',\n",
    "            'weight': 'normal',\n",
    "            'size': 25,\n",
    "            }\n",
    "\n",
    "fig = plt.figure(figsize=(10,7))\n",
    "sfr_data = [ia_ratio, ii_ratio, ibc_ratio]\n",
    "colors = ['tab:blue','tab:red','tab:orange']\n",
    "labels = ['SNe Ia','SNe II','SNe Ib/c']\n",
    "zorders = [4,3,2]\n",
    "alphas=[0.3,0.3,0.3]\n",
    "bars = [1.4,1.35,1.3]\n",
    "\n",
    "for i in range(len(sfr_data)):\n",
    "    ax = sns.kdeplot(sfr_data[i], shade=True,color=colors[i], linewidth=5,alpha=alphas[i], label=labels[i],zorder=zorders[i])\n",
    "    \n",
    "    # plot the percentiles\n",
    "    perc = np.sort(sfr_data[i][~np.isnan(sfr_data[i])])\n",
    "    ax.scatter([np.percentile(perc, 50)],[bars[i]], edgecolors='black',facecolors='white', marker='o', lw=3, s=100, zorder=11)\n",
    "    ax.plot([np.percentile(perc, 16), np.percentile(perc, 84)], [bars[i], bars[i]], color=colors[i], lw=5, zorder=10)\n",
    "    \n",
    "    if i == 2:\n",
    "        ax.set_xlabel('$\\log_{10}(\\Sigma_{\\mathrm{SFR}}$ / $\\Sigma_{*}}$) [yr$^{-1}$]',fontdict=font_axes)\n",
    "        ax.set_ylabel('Data density',fontdict=font_axes)\n",
    "        ax.tick_params(direction='in',axis='both', which='major', labelsize=20)\n",
    "        \n",
    "ax.legend(fontsize=25, loc='upper left')\n",
    "\n",
    "sns.set_style('whitegrid')\n",
    "plt.tight_layout()\n",
    "plt.savefig('../sne_project/results/sfr_star_kde.pdf',dpi=200)"
   ]
  },
  {
   "cell_type": "markdown",
   "metadata": {},
   "source": [
    "#### Re-do the above plots but split the SNe based on galaxy type"
   ]
  },
  {
   "cell_type": "markdown",
   "metadata": {},
   "source": [
    "SNe Ia"
   ]
  },
  {
   "cell_type": "code",
   "execution_count": null,
   "metadata": {},
   "outputs": [],
   "source": [
    "# Ia in elliptical galaxies\n",
    "ia_sfr_dict_ellip = {\n",
    "    'SFR': ia_sfr_ellip,\n",
    "}\n",
    "\n",
    "ia_sfr_df_ellip = pd.DataFrame(ia_sfr_dict_ellip)\n",
    "\n",
    "ia_star_dict_ellip = {\n",
    "    'STAR': ia_star_ellip,\n",
    "}\n",
    "\n",
    "ia_star_df_ellip = pd.DataFrame(ia_star_dict_ellip)\n",
    "ia_df_ellip = ia_sfr_df_ellip.merge(ia_star_df_ellip, left_index=True, right_index=True)\n",
    "\n",
    "# --------------------------------------------------------------------- \n",
    "\n",
    "# Ia in spiral galaxies\n",
    "ia_sfr_dict_spiral = {\n",
    "    'SFR': ia_sfr_spiral,\n",
    "}\n",
    "\n",
    "ia_sfr_df_spiral = pd.DataFrame(ia_sfr_dict_spiral)\n",
    "\n",
    "ia_star_dict_spiral = {\n",
    "    'STAR': ia_star_spiral,\n",
    "}\n",
    "\n",
    "ia_star_df_spiral = pd.DataFrame(ia_star_dict_spiral)\n",
    "ia_df_spiral = ia_sfr_df_spiral.merge(ia_star_df_spiral, left_index=True, right_index=True)\n",
    "\n",
    "# --------------------------------------------------------------------- \n",
    "\n",
    "# Ia in irregular/dwarf galaxies\n",
    "ia_sfr_dict_irr = {\n",
    "    'SFR': ia_sfr_irr,\n",
    "}\n",
    "\n",
    "ia_sfr_df_irr = pd.DataFrame(ia_sfr_dict_irr)\n",
    "\n",
    "ia_star_dict_irr = {\n",
    "    'STAR': ia_star_irr,\n",
    "}\n",
    "\n",
    "ia_star_df_irr = pd.DataFrame(ia_star_dict_irr)\n",
    "ia_df_irr = ia_sfr_df_irr.merge(ia_star_df_irr, left_index=True, right_index=True)"
   ]
  },
  {
   "cell_type": "code",
   "execution_count": null,
   "metadata": {},
   "outputs": [],
   "source": [
    "ia_sfr_log_ellip = np.log10(ia_df_ellip['SFR'])\n",
    "ia_star_log_ellip = np.log10(ia_df_ellip['STAR'])\n",
    "\n",
    "ia_sfr_log_spiral = np.log10(ia_df_spiral['SFR'])\n",
    "ia_star_log_spiral = np.log10(ia_df_spiral['STAR'])\n",
    "\n",
    "ia_sfr_log_irr = np.log10(ia_df_irr['SFR'])\n",
    "ia_star_log_irr = np.log10(ia_df_irr['STAR'])"
   ]
  },
  {
   "cell_type": "markdown",
   "metadata": {},
   "source": [
    "SNe II"
   ]
  },
  {
   "cell_type": "code",
   "execution_count": null,
   "metadata": {},
   "outputs": [],
   "source": [
    "# II in elliptical galaxies\n",
    "ii_sfr_dict_ellip = {\n",
    "    'SFR': ii_sfr_ellip,\n",
    "}\n",
    "\n",
    "ii_sfr_df_ellip = pd.DataFrame(ii_sfr_dict_ellip)\n",
    "\n",
    "ii_star_dict_ellip = {\n",
    "    'STAR': ii_star_ellip,\n",
    "}\n",
    "\n",
    "ii_star_df_ellip = pd.DataFrame(ii_star_dict_ellip)\n",
    "ii_df_ellip = ii_sfr_df_ellip.merge(ii_star_df_ellip, left_index=True, right_index=True)\n",
    "\n",
    "# --------------------------------------------------------------------- \n",
    "\n",
    "# II in spiral galaxies\n",
    "ii_sfr_dict_spiral = {\n",
    "    'SFR': ii_sfr_spiral,\n",
    "}\n",
    "\n",
    "ii_sfr_df_spiral = pd.DataFrame(ii_sfr_dict_spiral)\n",
    "\n",
    "ii_star_dict_spiral = {\n",
    "    'STAR': ii_star_spiral,\n",
    "}\n",
    "\n",
    "ii_star_df_spiral = pd.DataFrame(ii_star_dict_spiral)\n",
    "ii_df_spiral = ii_sfr_df_spiral.merge(ii_star_df_spiral, left_index=True, right_index=True)\n",
    "\n",
    "# --------------------------------------------------------------------- \n",
    "\n",
    "# II in irregular/dwarf galaxies\n",
    "ii_sfr_dict_irr = {\n",
    "    'SFR': ii_sfr_irr,\n",
    "}\n",
    "\n",
    "ii_sfr_df_irr = pd.DataFrame(ii_sfr_dict_irr)\n",
    "\n",
    "ii_star_dict_irr = {\n",
    "    'STAR': ii_star_irr,\n",
    "}\n",
    "\n",
    "ii_star_df_irr = pd.DataFrame(ii_star_dict_irr)\n",
    "ii_df_irr = ii_sfr_df_irr.merge(ii_star_df_irr, left_index=True, right_index=True)"
   ]
  },
  {
   "cell_type": "code",
   "execution_count": null,
   "metadata": {},
   "outputs": [],
   "source": [
    "ii_sfr_log_ellip = np.log10(ii_df_ellip['SFR'])\n",
    "ii_star_log_ellip = np.log10(ii_df_ellip['STAR'])\n",
    "\n",
    "ii_sfr_log_spiral = np.log10(ii_df_spiral['SFR'])\n",
    "ii_star_log_spiral = np.log10(ii_df_spiral['STAR'])\n",
    "\n",
    "ii_sfr_log_irr = np.log10(ii_df_irr['SFR'])\n",
    "ii_star_log_irr = np.log10(ii_df_irr['STAR'])"
   ]
  },
  {
   "cell_type": "markdown",
   "metadata": {},
   "source": [
    "SNe Ib/c"
   ]
  },
  {
   "cell_type": "code",
   "execution_count": null,
   "metadata": {},
   "outputs": [],
   "source": [
    "# Ib/c in elliptical galaxies\n",
    "ibc_sfr_dict_ellip = {\n",
    "    'SFR': ibc_sfr_ellip,\n",
    "}\n",
    "\n",
    "ibc_sfr_df_ellip = pd.DataFrame(ibc_sfr_dict_ellip)\n",
    "\n",
    "ibc_star_dict_ellip = {\n",
    "    'STAR': ibc_star_ellip,\n",
    "}\n",
    "\n",
    "ibc_star_df_ellip = pd.DataFrame(ibc_star_dict_ellip)\n",
    "ibc_df_ellip = ibc_sfr_df_ellip.merge(ibc_star_df_ellip, left_index=True, right_index=True)\n",
    "\n",
    "# --------------------------------------------------------------------- \n",
    "\n",
    "# Ib/c in spiral galaxies\n",
    "ibc_sfr_dict_spiral = {\n",
    "    'SFR': ibc_sfr_spiral,\n",
    "}\n",
    "\n",
    "ibc_sfr_df_spiral = pd.DataFrame(ibc_sfr_dict_spiral)\n",
    "\n",
    "ibc_star_dict_spiral = {\n",
    "    'STAR': ibc_star_spiral,\n",
    "}\n",
    "\n",
    "ibc_star_df_spiral = pd.DataFrame(ibc_star_dict_spiral)\n",
    "ibc_df_spiral = ibc_sfr_df_spiral.merge(ibc_star_df_spiral, left_index=True, right_index=True)\n",
    "\n",
    "# --------------------------------------------------------------------- \n",
    "\n",
    "# Ib/c in irregular/dwarf galaxies\n",
    "ibc_sfr_dict_irr = {\n",
    "    'SFR': ibc_sfr_irr,\n",
    "}\n",
    "\n",
    "ibc_sfr_df_irr = pd.DataFrame(ibc_sfr_dict_irr)\n",
    "\n",
    "ibc_star_dict_irr = {\n",
    "    'STAR': ibc_star_irr,\n",
    "}\n",
    "\n",
    "ibc_star_df_irr = pd.DataFrame(ibc_star_dict_irr)\n",
    "ibc_df_irr = ibc_sfr_df_irr.merge(ibc_star_df_irr, left_index=True, right_index=True)"
   ]
  },
  {
   "cell_type": "code",
   "execution_count": null,
   "metadata": {},
   "outputs": [],
   "source": [
    "ibc_sfr_log_ellip = np.log10(ibc_df_ellip['SFR'])\n",
    "ibc_star_log_ellip = np.log10(ibc_df_ellip['STAR'])\n",
    "\n",
    "ibc_sfr_log_spiral = np.log10(ibc_df_spiral['SFR'])\n",
    "ibc_star_log_spiral = np.log10(ibc_df_spiral['STAR'])\n",
    "\n",
    "ibc_sfr_log_irr = np.log10(ibc_df_irr['SFR'])\n",
    "ibc_star_log_irr = np.log10(ibc_df_irr['STAR'])"
   ]
  },
  {
   "cell_type": "code",
   "execution_count": null,
   "metadata": {},
   "outputs": [],
   "source": [
    "ia_ratio_ellip  = np.log10(ia_df_ellip['SFR']/(ia_df_ellip['STAR']*(10**(6))))\n",
    "ia_ratio_spiral  = np.log10(ia_df_spiral['SFR']/(ia_df_spiral['STAR']*(10**(6))))\n",
    "ia_ratio_irr  = np.log10(ia_df_irr['SFR']/(ia_df_irr['STAR']*(10**(6))))\n",
    "\n",
    "ii_ratio_ellip  = np.log10(ii_df_ellip['SFR']/(ii_df_ellip['STAR']*(10**(6))))\n",
    "ii_ratio_spiral  = np.log10(ii_df_spiral['SFR']/(ii_df_spiral['STAR']*(10**(6))))\n",
    "ii_ratio_irr  = np.log10(ii_df_irr['SFR']/(ii_df_irr['STAR']*(10**(6))))\n",
    "\n",
    "ibc_ratio_ellip  = np.log10(ibc_df_ellip['SFR']/(ibc_df_ellip['STAR']*(10**(6))))\n",
    "ibc_ratio_spiral  = np.log10(ibc_df_spiral['SFR']/(ibc_df_spiral['STAR']*(10**(6))))\n",
    "ibc_ratio_irr  = np.log10(ibc_df_irr['SFR']/(ibc_df_irr['STAR']*(10**(6))))"
   ]
  },
  {
   "cell_type": "markdown",
   "metadata": {},
   "source": [
    "#### Simplify the split SNe based on galaxy type"
   ]
  },
  {
   "cell_type": "code",
   "execution_count": null,
   "metadata": {},
   "outputs": [],
   "source": [
    "cc_sfr_log_ellip = list(ii_sfr_log_ellip) + list(ibc_sfr_log_ellip)\n",
    "cc_sfr_log_late = list(ii_sfr_log_spiral) + list(ibc_sfr_log_spiral) + list(ii_sfr_log_irr) + list(ibc_sfr_log_irr)\n",
    "ia_sfr_log_late = list(ia_sfr_log_spiral) + list(ia_sfr_log_irr)"
   ]
  },
  {
   "cell_type": "code",
   "execution_count": null,
   "metadata": {},
   "outputs": [],
   "source": [
    "# calculate the 16th, 50th, and 84th percentiles\n",
    "p_ia = np.sort(np.array(ia_sfr_log_late)[~np.isnan(np.array(ia_sfr_log_late))])\n",
    "p16 = np.percentile(p_ia, 16)\n",
    "p50 = np.percentile(p_ia, 50)\n",
    "p84 = np.percentile(p_ia, 84)\n",
    "print(p16,p50,p84)"
   ]
  },
  {
   "cell_type": "code",
   "execution_count": null,
   "metadata": {},
   "outputs": [],
   "source": [
    "# perform the T-test\n",
    "print('T < 2')\n",
    "print(stats.ttest_ind(ia_sfr_log_ellip, cc_sfr_log_ellip,  equal_var=False, nan_policy='omit'))\n",
    "print(' ')\n",
    "print('T > 2')\n",
    "print(stats.ttest_ind(ia_sfr_log_late, cc_sfr_log_late,  equal_var=False, nan_policy='omit'))"
   ]
  },
  {
   "cell_type": "code",
   "execution_count": null,
   "metadata": {},
   "outputs": [],
   "source": [
    "font_axes = {'family': 'sans-serif',\n",
    "            'color':  'black',\n",
    "            'weight': 'normal',\n",
    "            'size': 25,\n",
    "            }\n",
    "sns.set_style('whitegrid')\n",
    "\n",
    "fig,axes = plt.subplots(1,2,sharey=True,figsize=(15,7))\n",
    "axes = axes.flatten()\n",
    "\n",
    "sfr_data = [[ia_sfr_log_ellip, cc_sfr_log_ellip], [ia_sfr_log_late, cc_sfr_log_late]]\n",
    "\n",
    "colors = [['tab:blue','tab:orange'],['tab:blue','tab:orange'],['tab:blue','tab:orange']]\n",
    "labels = [['SNe Ia (%s)' % len(ia_sfr_log_ellip),'CC SNe (%s)' % len(cc_sfr_log_ellip)],\n",
    "          ['SNe Ia (%s)' % len(ia_sfr_log_late),'CC SNe (%s)' % len(cc_sfr_log_late)]]\n",
    "\n",
    "zorders = [[3,2],[3,2],[3,2]]\n",
    "alphas  = [[0.3,0.3],[0.3,0.3],[0.3,0.3]]\n",
    "bars    = [[.65,.61],[.95,.91],[1.15,1.11]]\n",
    "\n",
    "for i in range(len(sfr_data)):\n",
    "    for j in range(len(sfr_data[i])):\n",
    "        sns.kdeplot(sfr_data[i][j], shade=True,color=colors[i][j], linewidth=5,alpha=alphas[i][j], \n",
    "                    label=labels[i][j],ax=axes[i],zorder=zorders[i][j])   \n",
    "\n",
    "        # plot the percentiles\n",
    "        perc = np.sort(np.array(sfr_data[i][j])[~np.isnan(np.array(sfr_data[i][j]))])\n",
    "        axes[i].scatter([np.percentile(perc, 50)],[bars[i][j]], edgecolors='black',facecolors='white', marker='o', lw=3, s=100, zorder=11)\n",
    "        axes[i].plot([np.percentile(perc, 16), np.percentile(perc, 84)], [bars[i][j], bars[i][j]], color=colors[i][j], lw=5, zorder=10)\n",
    "    \n",
    "        axes[i].set_xlabel('$\\log_{10}\\Sigma_{\\mathrm{SFR}}\\ [\\mathrm{M}_{\\odot}\\ \\mathrm{yr}^{-1}\\ \\mathrm{kpc}^{-2}]$',fontdict=font_axes,fontsize=22)\n",
    "        axes[i].tick_params(direction='in',axis='both', which='major', labelsize=20)\n",
    "        axes[i].set_xlim(-5,1)\n",
    "    \n",
    "    if i == 0:\n",
    "        axes[i].set_ylabel('Data density',fontdict=font_axes)\n",
    "        axes[i].text(-4.2, 0.9, '$T < 2$', horizontalalignment='center',verticalalignment='center',\n",
    "                     fontdict=font_axes, fontsize=30, bbox=dict(boxstyle=\"round\",ec='lightgray',fc='None'))\n",
    "        axes[i].legend(fontsize=19, loc='upper right')\n",
    "        \n",
    "    if i == 1:\n",
    "        axes[i].set_ylabel('Data density',fontdict=font_axes)\n",
    "        axes[i].text(-4.2, 0.9, '$T > 2$', horizontalalignment='center',verticalalignment='center',\n",
    "                     fontdict=font_axes, fontsize=30, bbox=dict(boxstyle=\"round\",ec='lightgray',fc='None'))\n",
    "        axes[i].legend(fontsize=19, loc='upper right')\n",
    "    \n",
    "\n",
    "\n",
    "plt.tight_layout()\n",
    "plt.savefig('../sne_project/results/sfr_type_kde_v2.pdf',dpi=200)\n"
   ]
  },
  {
   "cell_type": "code",
   "execution_count": null,
   "metadata": {},
   "outputs": [],
   "source": [
    "ia_ratio_ellip  = np.log10(ia_df_ellip['SFR']/(ia_df_ellip['STAR']*(10**(6))))\n",
    "ia_ratio_late   = list(np.log10(ia_df_spiral['SFR']/(ia_df_spiral['STAR']*(10**(6))))) + list(np.log10(ia_df_irr['SFR']/(ia_df_irr['STAR']*(10**(6)))))\n",
    "\n",
    "cc_ratio_ellip = list(np.log10(ii_df_ellip['SFR']/(ii_df_ellip['STAR']*(10**(6))))) + list(np.log10(ibc_df_ellip['SFR']/(ibc_df_ellip['STAR']*(10**(6)))))\n",
    "cc_ratio_late  = list(np.log10(ii_df_spiral['SFR']/(ii_df_spiral['STAR']*(10**(6))))) + list(np.log10(ibc_df_irr['SFR']/(ibc_df_irr['STAR']*(10**(6)))))\n"
   ]
  },
  {
   "cell_type": "code",
   "execution_count": null,
   "metadata": {},
   "outputs": [],
   "source": [
    "# calculate the 16th, 50th, and 84th percentiles\n",
    "p_ia = np.sort(np.array(ia_ratio_late)[~np.isnan(np.array(ia_ratio_late))])\n",
    "p16 = np.percentile(p_ia, 16)\n",
    "p50 = np.percentile(p_ia, 50)\n",
    "p84 = np.percentile(p_ia, 84)\n",
    "print(p16,p50,p84)"
   ]
  },
  {
   "cell_type": "code",
   "execution_count": null,
   "metadata": {},
   "outputs": [],
   "source": [
    "# perform the T-test\n",
    "print('T < 2')\n",
    "print(stats.ttest_ind(ia_ratio_ellip, cc_ratio_ellip,  equal_var=False, nan_policy='omit'))\n",
    "print(' ')\n",
    "print('T > 2')\n",
    "print(stats.ttest_ind(ia_ratio_late, cc_ratio_late,  equal_var=False, nan_policy='omit'))"
   ]
  },
  {
   "cell_type": "code",
   "execution_count": null,
   "metadata": {},
   "outputs": [],
   "source": [
    "font_axes = {'family': 'sans-serif',\n",
    "            'color':  'black',\n",
    "            'weight': 'normal',\n",
    "            'size': 25,\n",
    "            }\n",
    "sns.set_style('whitegrid')\n",
    "\n",
    "fig,axes = plt.subplots(1,2,sharey=True,figsize=(15,7))\n",
    "axes = axes.flatten()\n",
    "\n",
    "sfr_data = [[ia_ratio_ellip, cc_ratio_ellip], [ia_ratio_late, cc_ratio_late]]\n",
    "\n",
    "colors = [['tab:blue','tab:orange'],['tab:blue','tab:orange'],['tab:blue','tab:orange']]\n",
    "labels = [['SNe Ia (%s)' % len(ia_ratio_ellip),'CC SNe (%s)' % len(cc_ratio_ellip)],\n",
    "          ['SNe Ia (%s)' % len(ia_ratio_late),'CC SNe (%s)' % len(cc_ratio_late)]]\n",
    "\n",
    "zorders = [[3,2],[3,2],[3,2]]\n",
    "alphas  = [[0.3,0.3],[0.3,0.3]]\n",
    "bars    = [[.95,.91],[1.3,1.25]]\n",
    "\n",
    "for i in range(len(sfr_data)):\n",
    "    for j in range(len(sfr_data[i])):\n",
    "        sns.kdeplot(sfr_data[i][j], shade=True,color=colors[i][j], linewidth=5,alpha=alphas[i][j], \n",
    "                    label=labels[i][j],ax=axes[i],zorder=zorders[i][j])   \n",
    "\n",
    "        # plot the percentiles\n",
    "        perc = np.sort(np.array(sfr_data[i][j])[~np.isnan(np.array(sfr_data[i][j]))])\n",
    "        axes[i].scatter([np.percentile(perc, 50)],[bars[i][j]], edgecolors='black',facecolors='white', marker='o', lw=3, s=100, zorder=11)\n",
    "        axes[i].plot([np.percentile(perc, 16), np.percentile(perc, 84)], [bars[i][j], bars[i][j]], color=colors[i][j], lw=5, zorder=10)\n",
    "    \n",
    "        axes[i].set_xlabel('$\\log_{10}(\\Sigma_{\\mathrm{SFR}}$ / $\\Sigma_{*}}$) [yr$^{-1}$]',fontdict=font_axes,fontsize=22)\n",
    "        axes[i].tick_params(direction='in',axis='both', which='major', labelsize=20)\n",
    "        axes[i].set_xlim(-13,-8)\n",
    "    \n",
    "    if i == 0:\n",
    "        axes[i].set_ylabel('Data density',fontdict=font_axes)\n",
    "        axes[i].text(-12.2, 1.25, '$T < 2$', horizontalalignment='center',verticalalignment='center',\n",
    "                     fontdict=font_axes, fontsize=30, bbox=dict(boxstyle=\"round\",ec='lightgray',fc='None'))\n",
    "        \n",
    "    if i == 1:\n",
    "        axes[i].set_ylabel('Data density',fontdict=font_axes)\n",
    "        axes[i].text(-12.2, 1.25, '$T > 2$', horizontalalignment='center',verticalalignment='center',\n",
    "                     fontdict=font_axes, fontsize=30, bbox=dict(boxstyle=\"round\",ec='lightgray',fc='None'))\n",
    "    \n",
    "\n",
    "\n",
    "plt.tight_layout()\n",
    "plt.savefig('../sne_project/results/sfr_star_type_kde_v2.pdf',dpi=200)\n"
   ]
  },
  {
   "cell_type": "markdown",
   "metadata": {},
   "source": [
    "## Extra analysis."
   ]
  },
  {
   "cell_type": "markdown",
   "metadata": {},
   "source": [
    "### Calculate the width of the bins (of the grayscale pixels)."
   ]
  },
  {
   "cell_type": "code",
   "execution_count": null,
   "metadata": {},
   "outputs": [],
   "source": [
    "star_sfr = pd.read_csv('results/star_sfr.csv')\n",
    "h, xedge, yedge, _ = plt.hist2d(np.log10(star_sfr['sigma_star']),np.log10(star_sfr['sigma_sfr']),bins=100,cmap='gray_r',\n",
    "           weights=1./star_sfr['numpix_star'],zorder=2)\n",
    "\n",
    "print(yedge[1]-yedge[0])"
   ]
  },
  {
   "cell_type": "code",
   "execution_count": null,
   "metadata": {},
   "outputs": [],
   "source": [
    "sn_samp"
   ]
  },
  {
   "cell_type": "markdown",
   "metadata": {},
   "source": [
    "### Look at SNe at low Sigma_SFR/Sigma_star values."
   ]
  },
  {
   "cell_type": "code",
   "execution_count": null,
   "metadata": {},
   "outputs": [],
   "source": [
    "sample = sn_samp[(sn_samp['TYPE'] != 'Ia')]\n",
    "\n",
    "sigma_star  = []\n",
    "sigma_sfr = []\n",
    "sne = []\n",
    "tipe = []\n",
    "gal = []\n",
    "for index, row in sample.iterrows():\n",
    "\n",
    "    # 3*RMS cut\n",
    "    if (row['W1'] < 3*row['RMS_W1']):\n",
    "        row['W1'] == 3*row['RMS_W1']\n",
    "        continue\n",
    "\n",
    "    # calculate SFR (W3+NUV)\n",
    "    w3  = w3_SFR_tracer(row['W3'])\n",
    "    nuv = nuv_SFR_tracer(row['NUV'])\n",
    "    sfr = w3+nuv\n",
    "\n",
    "    # multiply by cos(i) for both and convert W1 to sigma star\n",
    "    info = del_index[del_index['pgc_name'] == row['PGC']] # delivery index information on the host galaxy\n",
    "    sigma_star.append(330*(np.float(info['mtol'])/0.5)*row['W1']*np.cos(np.radians(row['INCL'])))\n",
    "    sigma_sfr.append(sfr*np.cos(np.radians(row['INCL'])))\n",
    "    sne.append(row['NAME'])\n",
    "    tipe.append(row['TYPE'])\n",
    "    gal.append(row['T'])"
   ]
  },
  {
   "cell_type": "code",
   "execution_count": null,
   "metadata": {},
   "outputs": [],
   "source": [
    "test = pd.DataFrame()\n",
    "\n",
    "test['NAME'] = sne\n",
    "test['TYPE'] = tipe\n",
    "test['T'] = gal\n",
    "test['SFR'] = sigma_sfr\n",
    "test['STAR'] = sigma_star\n",
    "test['SFR/STAR'] = np.log10(np.array(sigma_sfr)/(np.array(sigma_star)*(10**(6))))\n",
    "\n",
    "test[test['SFR/STAR'] < -10.5]"
   ]
  },
  {
   "cell_type": "code",
   "execution_count": null,
   "metadata": {},
   "outputs": [],
   "source": []
  }
 ],
 "metadata": {
  "kernelspec": {
   "display_name": "Python 3",
   "language": "python",
   "name": "python3"
  },
  "language_info": {
   "codemirror_mode": {
    "name": "ipython",
    "version": 3
   },
   "file_extension": ".py",
   "mimetype": "text/x-python",
   "name": "python",
   "nbconvert_exporter": "python",
   "pygments_lexer": "ipython3",
   "version": "3.7.10"
  }
 },
 "nbformat": 4,
 "nbformat_minor": 2
}
