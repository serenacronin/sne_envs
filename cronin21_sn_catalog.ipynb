{
 "cells": [
  {
   "cell_type": "markdown",
   "id": "fd36092b",
   "metadata": {},
   "source": [
    "# Make the SN catalog from Cronin et al. 2021 into a machine-readable format."
   ]
  },
  {
   "cell_type": "code",
   "execution_count": null,
   "id": "5e613fdd",
   "metadata": {},
   "outputs": [],
   "source": [
    "import numpy as np\n",
    "import pandas as pd\n",
    "import astropy.units as u\n",
    "from astropy.table import Table\n",
    "sys.path.append(os.path.join(os.getenv('HOME'),'workspace','galbase'))\n",
    "from gal_data import gal_data\n",
    "pd.set_option('display.max_columns', 500)"
   ]
  },
  {
   "cell_type": "markdown",
   "id": "8dab5739",
   "metadata": {},
   "source": [
    "Read in the final sample table and drop the columns that we don't want."
   ]
  },
  {
   "cell_type": "code",
   "execution_count": null,
   "id": "fc1bbdb4",
   "metadata": {},
   "outputs": [],
   "source": [
    "sample = pd.read_csv('../sne_project/samples/FINAL_SAMPLE.csv')\n",
    "sample = sample.drop(columns=['RA_diff','DEC_diff','2kpc','PHOT','SPEC','VEL','z_diff','RMS_W1','RMS_W2',\n",
    "                             'RMS_W3','RMS_W4','RMS_NUV','RMS_FUV','RMS_SFR_FUVW4','RMS_SFR_NUVW3','IN_2R25',\n",
    "                             'SAMPLE','2kpc','SFR_FUVW4','SFR_NUVW3'])\n",
    "sample"
   ]
  },
  {
   "cell_type": "markdown",
   "id": "aff3f30e",
   "metadata": {},
   "source": [
    "Re-arrange the columns to match the paper."
   ]
  },
  {
   "cell_type": "code",
   "execution_count": null,
   "id": "a110ffc8",
   "metadata": {},
   "outputs": [],
   "source": [
    "column_order = ['NAME','TYPE','DATE','RA','DEC','SN_RAD','z','W1','W2','W3','W4','NUV','FUV','SFR_FUVW4',\n",
    "                   'SFR_NUVW3','PGC','HOST','T','RA_GAL','DEC_GAL','R25','INCL','PA','z_gal','DIST',\n",
    "                   'logmass','logsfr']\n",
    "\n",
    "rearranged = sample.reindex(columns=column_order)"
   ]
  },
  {
   "cell_type": "markdown",
   "id": "259cb3a5",
   "metadata": {},
   "source": [
    "Re-name the columns to include units."
   ]
  },
  {
   "cell_type": "code",
   "execution_count": null,
   "id": "1181a19f",
   "metadata": {},
   "outputs": [],
   "source": [
    "renamed = rearranged.rename(columns={'NAME' : 'SN Name', \n",
    "                       'TYPE' : 'SN Type',\n",
    "                       'DATE' : 'Disc. Year', \n",
    "                       'RA'   : 'SN RA (deg.)',\n",
    "                       'DEC'  : 'SN Dec. (deg.)',\n",
    "                       'SN_RAD': 'SN Galactocentric Radius (deg.)',\n",
    "                       'z'     : 'SN Redshift z',\n",
    "                       'W1'    : 'W1 (MJy sr$^{-1}$)',\n",
    "                       'W2'    : 'W2 (MJy sr$^{-1}$)',\n",
    "                       'W3'    : 'W3 (MJy sr$^{-1}$)',\n",
    "                       'W4'    : 'W4 (MJy sr$^{-1}$)',\n",
    "                       'NUV'   : 'NUV (MJy sr$^{-1}$)',\n",
    "                       'FUV'   : 'FUV (MJy sr$^{-1}$)',\n",
    "                       'log(SFR_FUVW4)': '$\\log_{10}{\\Sigma_{\\mathrm{SFR}}(\\mathrm{FUV+W4})}$ ($M_{\\odot}$ year$^{-1}$ kpc$^{-2}$)',\n",
    "                       'log(SFR_NUVW3)': '$\\log_{10}{\\Sigma_{\\mathrm{SFR}}(\\mathrm{NUV+W3})}$ ($M_{\\odot}$ year$^{-1}$ kpc$^{-2}$)',\n",
    "                       'PGC'    : 'PGC',\n",
    "                       'HOST'   : 'Host Galaxy Name',\n",
    "                       'T'      : 'Galaxy $T-$type',\n",
    "                       'RA_GAL' : 'Galaxy RA (deg.)',\n",
    "                       'DEC_GAL': 'Galaxy Dec. (deg.)',\n",
    "                       'R25'    : 'r25 (deg.)',\n",
    "                       'INCL'   : 'Inclination (deg.)',\n",
    "                       'PA'     : 'Position Angle (deg.)',\n",
    "                       'z_gal'  : 'Galaxy Redshift z',\n",
    "                       'DIST'   : 'Galaxy Distance (Mpc)',\n",
    "                       'logmass': '$\\log_{10}(M_{\\star}/M_{\\odot})$',\n",
    "                       'logsfr':  '$\\log_{10}$(SFR/$M_{\\odot}$year$^{-1}$)'})\n",
    "\n",
    "# save as an enhanced csv file\n",
    "renamed.to_csv('cronin21_sample.ecsv',index=False)\n"
   ]
  },
  {
   "cell_type": "markdown",
   "id": "6d1c1f08",
   "metadata": {},
   "source": [
    "Read in using astropy."
   ]
  },
  {
   "cell_type": "code",
   "execution_count": null,
   "id": "da96c311",
   "metadata": {
    "scrolled": false
   },
   "outputs": [],
   "source": [
    "catalog = pd.read_csv('cronin21_sample.ecsv')\n",
    "t = Table.from_pandas(catalog)\n",
    "t"
   ]
  },
  {
   "cell_type": "code",
   "execution_count": null,
   "id": "8b4a2ee3",
   "metadata": {},
   "outputs": [],
   "source": []
  }
 ],
 "metadata": {
  "kernelspec": {
   "display_name": "Python 3",
   "language": "python",
   "name": "python3"
  },
  "language_info": {
   "codemirror_mode": {
    "name": "ipython",
    "version": 3
   },
   "file_extension": ".py",
   "mimetype": "text/x-python",
   "name": "python",
   "nbconvert_exporter": "python",
   "pygments_lexer": "ipython3",
   "version": "3.7.10"
  }
 },
 "nbformat": 4,
 "nbformat_minor": 5
}
