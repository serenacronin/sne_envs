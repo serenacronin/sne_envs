{
 "cells": [
  {
   "cell_type": "markdown",
   "metadata": {},
   "source": [
    "## Monte Carlo simulation to see how much the SN distributions can vary\n",
    "We want to see how small sample sizes affect our distributions. We do Monte Carlo simulations to see this variation."
   ]
  },
  {
   "cell_type": "code",
   "execution_count": null,
   "metadata": {},
   "outputs": [],
   "source": [
    "import numpy as np\n",
    "import pandas as pd\n",
    "import math\n",
    "from astropy.utils.console import ProgressBar\n",
    "from matplotlib import pyplot as plt\n",
    "import matplotlib.cm as cm\n",
    "from scipy.stats import ks_2samp\n",
    "import seaborn as sns\n",
    "from scipy.stats import anderson_ksamp"
   ]
  },
  {
   "cell_type": "code",
   "execution_count": null,
   "metadata": {},
   "outputs": [],
   "source": [
    "sn_conv2p0 = pd.read_csv('../sne_project/sample_processing/2kpc.csv')\n",
    "pgcs  = sn_conv2p0['PGC']"
   ]
  },
  {
   "cell_type": "code",
   "execution_count": null,
   "metadata": {
    "scrolled": false
   },
   "outputs": [],
   "source": [
    "bands = ['W1','W2','W3','W4','NUV','FUV','SFR_FUVW4','SFR_NUVW3']\n",
    "sne   = ['Ia','II','Ibc']\n",
    "\n",
    "result_sfr = pd.read_csv('../sne_project/results/ks_test/SFR_2kpc.csv')\n",
    "result     = pd.read_csv('../sne_project/results/ks_test/2kpc.csv')\n",
    "\n",
    "\n",
    "# for each band\n",
    "for band in range(len(bands)):\n",
    "    print(bands[band])\n",
    "    \n",
    "    # for each SN type in each band\n",
    "    for tipe in range(len(sne)):\n",
    "        print(sne[tipe])\n",
    "        distributions = pd.DataFrame()\n",
    "        # build 100 plots per SN type in each band\n",
    "        bar = ProgressBar(range(100), ipython_widget=True)\n",
    "        for j in range(0, 100):\n",
    "            pix = []\n",
    "            \n",
    "            if (bands[band] == 'SFR_FUVW4') or (bands[band] == 'SFR_NUVW3'):\n",
    "                result = result_sfr\n",
    "\n",
    "            num_sne = result['%s_%s' % (bands[band],sne[tipe])].dropna()\n",
    "            # for each individual plot per SN type per band\n",
    "            for i in range(0, len(num_sne)):\n",
    "\n",
    "               # loop until we find a galaxy that has a control table\n",
    "                random_gal = np.random.choice(pgcs)\n",
    "                while os.path.isfile('../sne_project/galaxy_control_tables/2kpc/%s_2kpc.csv' % (random_gal)) is not True:\n",
    "                    random_gal = np.random.choice(pgcs)\n",
    "\n",
    "                control_table = pd.read_csv('../sne_project/galaxy_control_tables/2kpc/%s_2kpc.csv' % (random_gal))\n",
    "                sne_flux = np.array(control_table['%s'% (bands[band])])\n",
    "                is_positive = np.where(sne_flux >= 0)\n",
    "\n",
    "                # loop until we find a galaxy that has a control table *and* an FUV column\n",
    "                while np.size(is_positive) == 0:\n",
    "                    random_gal = np.random.choice(pgcs)\n",
    "                    while os.path.isfile('../sne_project/galaxy_control_tables/2kpc/%s_2kpc.csv'% (random_gal)) is not True:\n",
    "                        random_gal = np.random.choice(pgcs)\n",
    "\n",
    "                    control_table = pd.read_csv('../sne_project/galaxy_control_tables/2kpc/%s_2kpc.csv' % (random_gal))\n",
    "                    sne_flux = np.array(control_table['%s'% (bands[band])])\n",
    "                    is_positive = np.where(sne_flux >= 0)\n",
    "\n",
    "                band_flux = np.array(control_table['%s' % (bands[band])])\n",
    "                \n",
    "                if (bands[band] == 'W4') or (bands[band] == 'SFR_FUVW4'):\n",
    "                    band_rad  = np.array(control_table['RADIUS_W4'])\n",
    "                else:\n",
    "                    band_rad  = np.array(control_table['RADIUS'])\n",
    "\n",
    "    \n",
    "                # get random pixel's radius                          # normalized pixel value\n",
    "                random_rad = np.random.choice(a=band_rad[is_positive], p=sne_flux[is_positive]/np.sum(sne_flux[is_positive]))\n",
    "                gal_cdf = pd.read_csv('../sne_project/galaxy_control_tables/gal_cdfs_2kpc/%s_%s_2kpc.csv' % (random_gal, bands[band]))\n",
    "                radii   = np.array(gal_cdf['RADIUS'])\n",
    "                cdf_val = np.array(gal_cdf['CDF'])\n",
    "                random_cdf = np.interp(random_rad, radii, cdf_val)\n",
    "                pix.append(random_cdf)\n",
    "            bar.update()\n",
    "\n",
    "            pix = np.array(pix)\n",
    "            pix = pix[np.isfinite(pix)]\n",
    "            pix = np.sort(pix)\n",
    "            distributions['DIST_%s' % (j)] = pix\n",
    "\n",
    "        distributions.to_csv('../sne_project/results/monte_carlo/%s_%s_2kpc.csv' % (bands[band],sne[tipe]),index=False)"
   ]
  },
  {
   "cell_type": "code",
   "execution_count": null,
   "metadata": {},
   "outputs": [],
   "source": []
  }
 ],
 "metadata": {
  "kernelspec": {
   "display_name": "Python 3",
   "language": "python",
   "name": "python3"
  },
  "language_info": {
   "codemirror_mode": {
    "name": "ipython",
    "version": 3
   },
   "file_extension": ".py",
   "mimetype": "text/x-python",
   "name": "python",
   "nbconvert_exporter": "python",
   "pygments_lexer": "ipython3",
   "version": "3.7.10"
  }
 },
 "nbformat": 4,
 "nbformat_minor": 2
}
